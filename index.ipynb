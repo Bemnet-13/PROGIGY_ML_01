{
 "cells": [
  {
   "cell_type": "code",
   "execution_count": 14,
   "metadata": {},
   "outputs": [],
   "source": [
    "# Import statements\n",
    "import pandas as pd\n",
    "import matplotlib.pyplot as plt\n",
    "import seaborn as sns\n",
    "from sklearn.linear_model import LinearRegression\n"
   ]
  },
  {
   "cell_type": "code",
   "execution_count": null,
   "metadata": {},
   "outputs": [],
   "source": [
    "training_data = pd.read_csv('./dataset_details/train.csv')\n",
    "training_data.head()"
   ]
  },
  {
   "cell_type": "markdown",
   "metadata": {},
   "source": [
    "### Exploratory Data Analysis"
   ]
  },
  {
   "cell_type": "code",
   "execution_count": null,
   "metadata": {},
   "outputs": [],
   "source": [
    "sns.jointplot(x='LotArea', y='SalePrice', data=training_data, alpha=0.5)\n",
    "sns.jointplot(x='BedroomAbvGr', y='SalePrice', data=training_data)\n",
    "sns.jointplot(x='FullBath', y='SalePrice', data=training_data)"
   ]
  },
  {
   "cell_type": "code",
   "execution_count": 17,
   "metadata": {},
   "outputs": [],
   "source": [
    "X_train = training_data[['LotArea','BedroomAbvGr','FullBath']]\n",
    "y_train = training_data['SalePrice']\n"
   ]
  },
  {
   "cell_type": "markdown",
   "metadata": {},
   "source": [
    "#### Training the model"
   ]
  },
  {
   "cell_type": "code",
   "execution_count": null,
   "metadata": {},
   "outputs": [],
   "source": [
    "ln = LinearRegression()\n",
    "\n",
    "ln.fit(X_train, y_train)"
   ]
  },
  {
   "cell_type": "code",
   "execution_count": null,
   "metadata": {},
   "outputs": [],
   "source": [
    "testing_data = pd.read_csv('./dataset_details/test.csv')\n",
    "X_test = testing_data[['LotArea','BedroomAbvGr','FullBath']]\n",
    "\n",
    "predictions = ln.predict(X_test)\n",
    "\n",
    "\n",
    "overall_prediction = {\n",
    "    'LotArea' : testing_data['LotArea'],\n",
    "    'BedroomAbvGr' : testing_data['BedroomAbvGr'],\n",
    "    'FullBath' : testing_data['FullBath'],\n",
    "    'Predicted Sales value' : predictions\n",
    "}\n",
    "\n",
    "\n",
    "print(pd.DataFrame(overall_prediction))\n"
   ]
  }
 ],
 "metadata": {
  "kernelspec": {
   "display_name": "Python 3",
   "language": "python",
   "name": "python3"
  },
  "language_info": {
   "codemirror_mode": {
    "name": "ipython",
    "version": 3
   },
   "file_extension": ".py",
   "mimetype": "text/x-python",
   "name": "python",
   "nbconvert_exporter": "python",
   "pygments_lexer": "ipython3",
   "version": "3.12.3"
  }
 },
 "nbformat": 4,
 "nbformat_minor": 2
}
